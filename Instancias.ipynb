{
 "cells": [
  {
   "cell_type": "code",
   "execution_count": null,
   "metadata": {},
   "outputs": [],
   "source": [
    "# Generador de instancias\n",
    "En este notebook está el código para generar los sets de instancias que se usan para experimentar.\n",
    "- Estas instancias van a ser guardadas en la carpeta __instancias__.\n",
    "- Cada set estará en su propia carpeta y tendrá un archivo _indice.csv_ que contendrá información sobre las instancias."
   ]
  },
  {
   "cell_type": "code",
   "execution_count": 3,
   "metadata": {},
   "outputs": [],
   "source": [
    "import random, math\n",
    "import pandas as pd\n",
    "import numpy as np"
   ]
  },
  {
   "cell_type": "code",
   "execution_count": 22,
   "metadata": {},
   "outputs": [],
   "source": [
    "def save_instance(dataset, instance_name, S, W, C):\n",
    "    with open(F\"instancias/{dataset}/{instance_name}.txt\", \"w\") as f:\n",
    "        print(len(S), W, file=f)\n",
    "        for i in range(len(S)): \n",
    "            print(S[i], C[i], file=f, sep=' ', end ='\\n')\n",
    "\n",
    "def save_index(dataset, instances):\n",
    "    with open(F\"instancias/{dataset}/instances.txt\", \"w\") as f:\n",
    "        for instance in instances: \n",
    "            print(instance, file=f)"
   ]
  },
  {
   "cell_type": "markdown",
   "metadata": {},
   "source": [
    "INSTANCIA TEST SIMPLE:"
   ]
  },
  {
   "cell_type": "code",
   "execution_count": 9,
   "metadata": {},
   "outputs": [],
   "source": [
    "filas_indice = []\n",
    "for i in range(1, 2):\n",
    "    n = i * 10 #Cantidad de locales\n",
    "    W = 100    #Maxima contaminacion\n",
    "    S = [i for i in range(0, n)] #Beneficio\n",
    "    C = [i*2 for i in range(0, n)] #contagio\n",
    "    save_instance(\"mejor-caso-bt\", F\"BT-MC-{n}\", S, W, C)\n",
    "    filas_indice.append([\"mejor-caso-bt\", F\"BT-MC-{n}\", n, W, F\"instancias/mejor-caso-bt/BT-MC-{n}.txt\"])\n",
    "pd.DataFrame(filas_indice, columns=[\"dataset\", \"instancia\", \"n\", \"W\", \"archivo\"]).to_csv(\"instancias/mejor-caso-bt/indice.csv\", index=False, header=True)"
   ]
  },
  {
   "cell_type": "markdown",
   "metadata": {},
   "source": [
    "INSTANCIA BT-F\n",
    "\n",
    "Experimento Factibilidad:\n",
    "para los experimentos de back tracking de factibilidad pensamos fijar un N y definir el M entorno al N. Vamos crear locales suponiendo que tienen una distribucion normal de la MEDIA = X y la VARIANZA = y\n",
    "\n",
    "la instancia de los experimentos tendria la siguiente pinta:\n",
    "Dado un N fijo. Siendo M la maxima cantidad cantidad de contagios.\n",
    "M = N * 3\n",
    "\n",
    "conjunto de comercios = {comercio0, comercio1,. . . . . . , comercioN} / comercioJ.contagio = normal(N, 1) para todo J entre 0 y N"
   ]
  },
  {
   "cell_type": "code",
   "execution_count": 34,
   "metadata": {},
   "outputs": [],
   "source": [
    "filas_indice = []\n",
    "\n",
    "for i in range(1, 45):\n",
    "    N = i\n",
    "    M = N * 3\n",
    "    S = [i for i in range(0, N)] #Beneficio\n",
    "    Co = np.rint(np.random.normal(N, N/3, N))\n",
    "    C = []\n",
    "    for j in range(0, N):\n",
    "        if(Co[j] <= 0):\n",
    "            Co[j] = 1\n",
    "        C.append(int(Co[j]))\n",
    "    \n",
    "    save_instance(\"densidad-alta-factibilidad\", F\"BT-F-DA-{N}\", S, M, C)\n",
    "    filas_indice.append([\"densidad-alta-factibilidad\", F\"BT-F-DA-{N}\", N, M, F\"instancias/densidad-alta-factibilidad/BT-F-DA-{N}.txt\"])\n",
    "pd.DataFrame(filas_indice, columns=[\"dataset\", \"instancia\", \"n\", \"W\", \"archivo\"]).to_csv(\"instancias/densidad-alta-factibilidad/indice.csv\", index=False, header=True)\n",
    "    \n"
   ]
  },
  {
   "cell_type": "code",
   "execution_count": null,
   "metadata": {},
   "outputs": [],
   "source": [
    "filas_indice = []\n",
    "\n",
    "for i in range(1, 45):\n",
    "    N = i\n",
    "    M = N * 2\n",
    "    S = [i for i in range(0, N)] #Beneficio\n",
    "    Co = np.rint(np.random.normal(N, N/3, N))\n",
    "    C = []\n",
    "    for j in range(0, N):\n",
    "        if(Co[j] <= 0):\n",
    "            Co[j] = 1\n",
    "        C.append(int(Co[j]))\n",
    "    \n",
    "    save_instance(\"densidad-baja-factibilidad\", F\"BT-F-DA-{N}\", S, M, C)\n",
    "    filas_indice.append([\"densidad-baja-factibilidad\", F\"BT-F-DA-{N}\", N, M, F\"instancias/densidad-baja-factibilidad/BT-F-DA-{N}.txt\"])\n",
    "pd.DataFrame(filas_indice, columns=[\"dataset\", \"instancia\", \"n\", \"W\", \"archivo\"]).to_csv(\"instancias/densidad-baja-factibilidad/indice.csv\", index=False, header=True)\n",
    "    "
   ]
  },
  {
   "cell_type": "code",
   "execution_count": null,
   "metadata": {},
   "outputs": [],
   "source": []
  },
  {
   "cell_type": "code",
   "execution_count": null,
   "metadata": {},
   "outputs": [],
   "source": []
  },
  {
   "cell_type": "code",
   "execution_count": null,
   "metadata": {},
   "outputs": [],
   "source": []
  }
 ],
 "metadata": {
  "kernelspec": {
   "display_name": "Python 3",
   "language": "python",
   "name": "python3"
  },
  "language_info": {
   "codemirror_mode": {
    "name": "ipython",
    "version": 3
   },
   "file_extension": ".py",
   "mimetype": "text/x-python",
   "name": "python",
   "nbconvert_exporter": "python",
   "pygments_lexer": "ipython3",
   "version": "3.8.3"
  }
 },
 "nbformat": 4,
 "nbformat_minor": 4
}
