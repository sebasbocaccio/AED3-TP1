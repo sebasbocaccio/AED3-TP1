{
 "cells": [
  {
   "cell_type": "code",
   "execution_count": 1,
   "metadata": {},
   "outputs": [],
   "source": [
    "Experimentos:"
   ]
  },
  {
   "cell_type": "code",
   "execution_count": 21,
   "metadata": {},
   "outputs": [],
   "source": [
    "import math, subprocess\n",
    "import pandas as pd\n",
    "import numpy as np\n",
    "from IPython.display import display, clear_output"
   ]
  },
  {
   "cell_type": "markdown",
   "metadata": {},
   "source": [
    "A continuación leemos los datasets en dataframes de Pandas."
   ]
  },
  {
   "cell_type": "code",
   "execution_count": 22,
   "metadata": {},
   "outputs": [],
   "source": [
    "def leer_instancia(path_instancia):\n",
    "    with open(path_instancia, \"r\") as f:\n",
    "        return f.read();\n",
    "\n",
    "#df_densidad_alta = pd.read_csv(\"instancias/densidad-alta/indice.csv\");\n",
    "#df_densidad_baja = pd.read_csv(\"instancias/densidad-baja/indice.csv\");\n",
    "df_mejor_caso_bt = pd.read_csv(\"instancias/mejor-caso-bt/indice.csv\");\n",
    "#df_peor_caso_bt = pd.read_csv(\"instancias/peor-caso-bt/indice.csv\");\n",
    "#df_dinamica = pd.read_csv(\"instancias/dinamica/indice.csv\");"
   ]
  },
  {
   "cell_type": "markdown",
   "metadata": {},
   "source": [
    "La siguiente función sirve para correr el código sobre una instancia ejecutando un método en particular.\n",
    "\n",
    "    FB: Fuerza bruta\n",
    "    BT: Backtracking con ambas podas.\n",
    "    BT-F: Backtracking solamente con poda por factibilidad.\n",
    "    BT-O: Backtracking solamente con poda por optimalidad.\n",
    "    DP: Programación dinámica.\n",
    "\n"
   ]
  },
  {
   "cell_type": "code",
   "execution_count": 23,
   "metadata": {},
   "outputs": [],
   "source": [
    "def correr_experimento(metodo, archivo_instancia):\n",
    "    # Leer archivo de la instancia.\n",
    "    instancia = leer_instancia(archivo_instancia)\n",
    "    \n",
    "    # Crear proceso para ejecutar el codigo.\n",
    "    process = subprocess.Popen([\"./a.out\", metodo], stderr=subprocess.PIPE, stdout=subprocess.PIPE, stdin=subprocess.PIPE, universal_newlines = True)\n",
    "\n",
    "    # Poner la instancia en la entrada estandar.\n",
    "    process.stdin.write(instancia)\n",
    "    process.stdin.flush()\n",
    "\n",
    "    # Correr experimento.\n",
    "    exit_code = process.wait()\n",
    "\n",
    "    # Verificar que el proceso no fallo.\n",
    "    if exit_code != 0: raise(F\"Hubo un error en la experimentacion para el algoritmo: {algoritmo} con la instancia {archivo_instancia}.\")\n",
    "    # Leer salida de STDERR con los tiempos de ejecucion de cada metodo.\n",
    "    tiempo_de_ejecucion = float(process.stderr.read());\n",
    "    \n",
    "    process.stdin.close();\n",
    "    process.stdout.close();\n",
    "    process.stderr.close();\n",
    "    \n",
    "    return tiempo_de_ejecucion;"
   ]
  },
  {
   "cell_type": "code",
   "execution_count": 29,
   "metadata": {},
   "outputs": [],
   "source": [
    "experimentos = [];"
   ]
  },
  {
   "cell_type": "markdown",
   "metadata": {},
   "source": [
    "Experimento Simple:"
   ]
  },
  {
   "cell_type": "code",
   "execution_count": 30,
   "metadata": {},
   "outputs": [],
   "source": [
    "for n in range(0, 1):\n",
    "    fila_n = df_mejor_caso_bt.iloc[n];\n",
    "    experimentos.append([fila_n[\"dataset\"], n, fila_n[\"n\"], fila_n[\"W\"], \"FB\", fila_n[\"archivo\"]]);"
   ]
  },
  {
   "cell_type": "markdown",
   "metadata": {},
   "source": [
    "Ejectuar los experimentos:"
   ]
  },
  {
   "cell_type": "code",
   "execution_count": null,
   "metadata": {},
   "outputs": [
    {
     "data": {
      "text/plain": [
       "'Experimento: 1/1'"
      ]
     },
     "metadata": {},
     "output_type": "display_data"
    }
   ],
   "source": [
    "columnas = [\"dataset\", \"n\", \"#locales\",\"W\", \"metodo\", \"tiempo\"];\n",
    "filas = [];\n",
    "numero = 1\n",
    "T = 5 # Numero de veces que se ejecuta cada experimento (para mayor fidelidad del tiempo).\n",
    "for experimento in experimentos:\n",
    "    # Voy mostrando que experimento se esta ejecutando.\n",
    "    clear_output(wait=True)\n",
    "    display('Experimento: ' + str(numero) + \"/\" + str(len(experimentos)))\n",
    "    numero += 1\n",
    "    \n",
    "    # Ejecutamos el experimento T veces y obtenemos la mediana.\n",
    "    tiempos = []\n",
    "    for i in range(0, T):\n",
    "        tiempos.append(correr_experimento(experimento[4], experimento[5]));\n",
    "    tiempo = np.median(tiempos);\n",
    "    filas.append([experimento[0], experimento[1], experimento[2], experimento[3], experimento[4],tiempo]);\n",
    "df_resultado = pd.DataFrame(filas, columns=columnas);\n",
    "df_resultado.to_csv(\"resultados/resultado.csv\", index=False, header=True);"
   ]
  },
  {
   "cell_type": "code",
   "execution_count": null,
   "metadata": {},
   "outputs": [],
   "source": []
  }
 ],
 "metadata": {
  "kernelspec": {
   "display_name": "Python 3",
   "language": "python",
   "name": "python3"
  },
  "language_info": {
   "codemirror_mode": {
    "name": "ipython",
    "version": 3
   },
   "file_extension": ".py",
   "mimetype": "text/x-python",
   "name": "python",
   "nbconvert_exporter": "python",
   "pygments_lexer": "ipython3",
   "version": "3.8.3"
  }
 },
 "nbformat": 4,
 "nbformat_minor": 4
}
